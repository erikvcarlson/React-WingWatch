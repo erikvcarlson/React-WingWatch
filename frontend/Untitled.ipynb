{
 "cells": [
  {
   "cell_type": "code",
   "execution_count": 5,
   "id": "f6dbbb20-43a0-440d-a752-28e193b5ffb4",
   "metadata": {},
   "outputs": [
    {
     "name": "stdout",
     "output_type": "stream",
     "text": [
      "8994.005039250193\n"
     ]
    }
   ],
   "source": [
    "import numpy as np\n",
    "# Let’s compute the maximum straight-line distance without intersecting the Earth!\n",
    "R_earth = 6371  # Radius of Earth in km\n",
    "h_s = 0.040       # Height of the first point (e.g., satellite) in km\n",
    "h_t = 0         # Second point on the surface\n",
    "\n",
    "# Compute the angle of tangency\n",
    "theta_tangent = np.arcsin(R_earth / (R_earth + h_s))\n",
    "\n",
    "# Compute the linear distance\n",
    "d_max = np.sqrt((R_earth + h_s)**2 + R_earth**2 - 2 * (R_earth + h_s) * R_earth * np.cos(theta_tangent))\n",
    "print(d_max)\n",
    "\n"
   ]
  },
  {
   "cell_type": "code",
   "execution_count": null,
   "id": "3ccb0993-f03a-4bee-840c-d59e8e09733f",
   "metadata": {},
   "outputs": [],
   "source": []
  }
 ],
 "metadata": {
  "kernelspec": {
   "display_name": "Python 3 (ipykernel)",
   "language": "python",
   "name": "python3"
  },
  "language_info": {
   "codemirror_mode": {
    "name": "ipython",
    "version": 3
   },
   "file_extension": ".py",
   "mimetype": "text/x-python",
   "name": "python",
   "nbconvert_exporter": "python",
   "pygments_lexer": "ipython3",
   "version": "3.12.7"
  }
 },
 "nbformat": 4,
 "nbformat_minor": 5
}
